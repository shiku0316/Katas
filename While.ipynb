{
 "cells": [
  {
   "cell_type": "code",
   "execution_count": 23,
   "metadata": {},
   "outputs": [],
   "source": [
    "from termcolor import colored"
   ]
  },
  {
   "cell_type": "markdown",
   "metadata": {},
   "source": [
    "<h1 style=\"color:tomato\" align=\"center\">While</h1>\n",
    "Ejercicio 1: Creación de un bucle \"while\"\n",
    "<p>Jorge Guadalupe Ventura Lopez</p>\n",
    "Ejercicio 1: Uso de ciclos while en Python\n",
    "<p>Kata Modulo 7</p>"
   ]
  },
  {
   "cell_type": "code",
   "execution_count": 24,
   "metadata": {},
   "outputs": [],
   "source": [
    "# Declaramos 2 variables\n",
    "\n",
    "new_planet = ''\n",
    "planets = []"
   ]
  },
  {
   "cell_type": "code",
   "execution_count": 25,
   "metadata": {},
   "outputs": [
    {
     "name": "stdout",
     "output_type": "stream",
     "text": [
      "\u001b[32m['Earth']\u001b[0m\n",
      "\u001b[32m['Earth', 'Mars']\u001b[0m\n",
      "\u001b[32m['Earth', 'Mars', 'Jupiter']\u001b[0m\n",
      "\u001b[32m['Earth', 'Mars', 'Jupiter', 'Neptune']\u001b[0m\n"
     ]
    }
   ],
   "source": [
    "# Escribe el ciclo while solicitado\n",
    "\n",
    "while new_planet.lower() != 'done':\n",
    "    if new_planet:\n",
    "        planets.append(new_planet)\n",
    "        print(colored(planets,\"green\"))\n",
    "    new_planet = input('Enter a new planet name or type \"done\" if finished').title()\n",
    "    "
   ]
  },
  {
   "cell_type": "markdown",
   "metadata": {},
   "source": [
    "Ejercicio #2"
   ]
  },
  {
   "cell_type": "code",
   "execution_count": 26,
   "metadata": {},
   "outputs": [
    {
     "name": "stdout",
     "output_type": "stream",
     "text": [
      "\u001b[33mEarth\u001b[0m\n",
      "\u001b[33mMars\u001b[0m\n",
      "\u001b[33mJupiter\u001b[0m\n",
      "\u001b[33mNeptune\u001b[0m\n"
     ]
    }
   ],
   "source": [
    "\n",
    "# Escribe tu ciclo for para iterar en una lista de planetas\n",
    "\n",
    "for planet in planets:\n",
    "    print(colored(planet,\"yellow\"))\n",
    "\n"
   ]
  }
 ],
 "metadata": {
  "interpreter": {
   "hash": "2be5faf79681da6f2a61fdfdd5405d65d042280f7fba6178067603e3a2925119"
  },
  "kernelspec": {
   "display_name": "Python 3.10.0 64-bit",
   "language": "python",
   "name": "python3"
  },
  "language_info": {
   "codemirror_mode": {
    "name": "ipython",
    "version": 3
   },
   "file_extension": ".py",
   "mimetype": "text/x-python",
   "name": "python",
   "nbconvert_exporter": "python",
   "pygments_lexer": "ipython3",
   "version": "3.10.0"
  },
  "orig_nbformat": 4
 },
 "nbformat": 4,
 "nbformat_minor": 2
}
