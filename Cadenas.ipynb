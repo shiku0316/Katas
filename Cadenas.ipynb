{
 "cells": [
  {
   "cell_type": "code",
   "execution_count": 314,
   "metadata": {},
   "outputs": [],
   "source": [
    "#instalar libreria para texto en color con el siguiente comando\n",
    "#!pip install termcolor\n",
    "#importar la libreria\n",
    "from termcolor import colored"
   ]
  },
  {
   "cell_type": "markdown",
   "metadata": {},
   "source": [
    "<h1 style=\"color:mediumpurple\" align=\"center\">Transformar Cadenas</h1>\n",
    "Kata modulo 4\n",
    "<p>El texto con el que trabajarás es el siguiente:</p>\n",
    "<p style=\"color:lightblue\">Interesting facts about the Moon. The Moon is Earth's only satellite. There are several interesting facts about the Moon and how it affects life here on Earth. \n",
    "On average, the Moon moves 4cm away from the Earth every year. This yearly drift is not significant enough to cause immediate effects on</p>"
   ]
  },
  {
   "cell_type": "code",
   "execution_count": 315,
   "metadata": {},
   "outputs": [
    {
     "name": "stdout",
     "output_type": "stream",
     "text": [
      "\u001b[32m['Interesting facts about the Moon', \"The Moon is Earth's only satellite\", 'There are several interesting facts about the Moon and how it affects life here on Earth', 'On average, the Moon moves 4cm away from the Earth every year', 'This yearly drift is not significant enough to cause immediate effects on']\u001b[0m\n"
     ]
    }
   ],
   "source": [
    "# Añade el código necesario para dividir el texto en partes\n",
    "text = \"Interesting facts about the Moon. The Moon is Earth's only satellite. There are several interesting facts about the Moon and how it affects life here on Earth. On average, the Moon moves 4cm away from the Earth every year. This yearly drift is not significant enough to cause immediate effects on\"\n",
    "text1 = text.split('. ')\n",
    "print(colored(text1,\"green\"))"
   ]
  },
  {
   "cell_type": "code",
   "execution_count": 316,
   "metadata": {},
   "outputs": [],
   "source": [
    "# Define las palabras pista: average, temperature y distance suenan bien\n",
    "keywords = [\"average\", \"temperature\" , \"distance\", \"satellite\"]"
   ]
  },
  {
   "cell_type": "code",
   "execution_count": 317,
   "metadata": {},
   "outputs": [
    {
     "name": "stdout",
     "output_type": "stream",
     "text": [
      "\u001b[32mThe Moon is Earth's only satellite\u001b[0m\n",
      "\u001b[32mOn average, the Moon moves 4cm away from the Earth every year\u001b[0m\n"
     ]
    }
   ],
   "source": [
    "# Ciclo for para recorrer la cadena\n",
    "\n",
    "for sentence in text1:\n",
    "    for keyword in keywords:\n",
    "        if keyword in sentence:\n",
    "            print(colored(sentence, \"green\"))\n",
    "            break\n"
   ]
  },
  {
   "cell_type": "code",
   "execution_count": 318,
   "metadata": {},
   "outputs": [
    {
     "name": "stdout",
     "output_type": "stream",
     "text": [
      "\u001b[32mThe Moon is Earth's only satellite\u001b[0m\n",
      "\u001b[32mOn average, the Moon moves 4cm away from the Earth every year\u001b[0m\n",
      "Se actualizo el bucle para cambiar C por Celsius\n"
     ]
    }
   ],
   "source": [
    "# Ciclo para cambiar C a Celsius\n",
    "for sentence in text1:\n",
    "    for keyword in keywords:\n",
    "        if keyword in sentence:\n",
    "            print(colored(sentence.replace(' C', ' Celsius'),\"green\"))\n",
    "            break\n",
    "print('Se actualizo el bucle para cambiar C por Celsius')\n",
    "\n"
   ]
  },
  {
   "cell_type": "markdown",
   "metadata": {},
   "source": [
    "Problema 2\n",
    "<p>Saber cómo dar formato a las cadenas es esencial cuando se presenta información de un programa. Hay algunas maneras diferentes de lograr esto en Python. En este ejercicio, se utilizan variables que contienen datos clave sobre la gravedad en varias lunas y luego se utilizan para dar formato e imprimir la información.</p>\n",
    "\n",
    "En lugar de reemplazar las variables en una cadena larga como parte de un párrafo, utiliza la información para presentarla en un formato tabular. El resultado debería verse así:\n",
    "\n",
    "<p>Gravity Facts about Ganymede</p>\n",
    "<p>-------------------------------------------------------------------------------</p>\n",
    "<p>Planet Name: Mars</p>\n",
    "<p>Gravity on Ganymede: 1.4300000000000002 m/s2</p>"
   ]
  },
  {
   "cell_type": "code",
   "execution_count": 319,
   "metadata": {},
   "outputs": [
    {
     "name": "stdout",
     "output_type": "stream",
     "text": [
      "\u001b[33mGravity Facts About Moon \n",
      "-------------------------------------------------------------------------------- \n",
      "Planet Name: Earth \n",
      "Gravity on Moon: 1.6199999999999999 m/s2 \n",
      " \n",
      "\u001b[0m\n"
     ]
    }
   ],
   "source": [
    "# Datos con los que vas a trabajar\n",
    "name = \"Moon\"\n",
    "gravity = 0.00162 # in kms\n",
    "planet = \"Earth\"\n",
    "\n",
    "# Creamos el título\n",
    "title = f'Gravity Facts About {name}'\n",
    "\n",
    "# Creamos la plantilla\n",
    "template = f\"\"\"{'-'*80} \n",
    "Planet Name: {planet} \n",
    "Gravity on {name}: {gravity * 1000} m/s2 \n",
    "\"\"\"\n",
    "# Unión de ambas cadenas\n",
    "template = f\"\"\"{title} \n",
    "{template} \n",
    "\"\"\" \n",
    "print(colored(template,\"yellow\"))"
   ]
  },
  {
   "cell_type": "code",
   "execution_count": 320,
   "metadata": {},
   "outputs": [
    {
     "name": "stdout",
     "output_type": "stream",
     "text": [
      "\u001b[31mGravity Facts About Moon \n",
      "-------------------------------------------------------------------------------- \n",
      "Planet Name: Earth \n",
      "Gravity on Moon: 1.6199999999999999 m/s2 \n",
      " \n",
      "\u001b[0m\n"
     ]
    }
   ],
   "source": [
    "# Nuevos datos muestra\n",
    "name = 'Ganymede'\n",
    "gravity  = 0.00143\n",
    "planet = 'Mars'\n",
    "\n",
    "# Comprobamos la plantilla\n",
    "print(colored(template,\"red\"))"
   ]
  },
  {
   "cell_type": "code",
   "execution_count": 321,
   "metadata": {},
   "outputs": [
    {
     "name": "stdout",
     "output_type": "stream",
     "text": [
      "\u001b[32m\n",
      "Gravity facts About: Ganymede\n",
      "---------------------------------------------------------------------------\n",
      "Nombre del planeta: Mars\n",
      "Gravedad en Ganymede: 0.00143 m/s2\n",
      "\u001b[0m\n"
     ]
    }
   ],
   "source": [
    "#nuevo template utilizando format()\n",
    "\n",
    "newtemplate = \"\"\"\n",
    "Gravity facts About: {name}\n",
    "---------------------------------------------------------------------------\n",
    "Nombre del planeta: {planet}\n",
    "Gravedad en {name}: {gravity} m/s2\n",
    "\"\"\"\n",
    "templateWFormat = newtemplate.format(name=name, planet=planet, gravity=gravity)\n",
    "print(colored(templateWFormat,\"green\"))"
   ]
  }
 ],
 "metadata": {
  "interpreter": {
   "hash": "2be5faf79681da6f2a61fdfdd5405d65d042280f7fba6178067603e3a2925119"
  },
  "kernelspec": {
   "display_name": "Python 3.10.0 64-bit",
   "language": "python",
   "name": "python3"
  },
  "language_info": {
   "codemirror_mode": {
    "name": "ipython",
    "version": 3
   },
   "file_extension": ".py",
   "mimetype": "text/x-python",
   "name": "python",
   "nbconvert_exporter": "python",
   "pygments_lexer": "ipython3",
   "version": "3.10.0"
  },
  "orig_nbformat": 4
 },
 "nbformat": 4,
 "nbformat_minor": 2
}
