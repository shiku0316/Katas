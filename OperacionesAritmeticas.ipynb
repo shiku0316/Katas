{
 "cells": [
  {
   "cell_type": "markdown",
   "metadata": {},
   "source": [
    "<h1 style=\"color:tomato\" align=\"center\">Operadores Aritmeticos </h1>\n",
    "Ejercicio1 - Utilizar operadores aritméticos\n",
    "<p>Kata modulo 5</p>\n",
    "Jorge Guadalupe Ventura Lopez"
   ]
  },
  {
   "cell_type": "code",
   "execution_count": 9,
   "metadata": {},
   "outputs": [],
   "source": [
    "#importar libreria termcolor\n",
    "from termcolor import colored\n",
    "# Crear variables para almacenar las dos distancias\n",
    "# ¡Asegúrate de quitar las comas!\n",
    "\n",
    "Earth = 149597870\n",
    "Jupiter = 778547200"
   ]
  },
  {
   "cell_type": "code",
   "execution_count": 10,
   "metadata": {},
   "outputs": [
    {
     "name": "stdout",
     "output_type": "stream",
     "text": [
      "\u001b[33mDistance in Km: \u001b[0m\u001b[32m628949330\u001b[0m\n",
      "\u001b[33mDistance in Mi: \u001b[0m\u001b[32m390577533.93\u001b[0m\n"
     ]
    }
   ],
   "source": [
    "# Calcular la distancia entre planetas\n",
    "distanceKm = Jupiter - Earth\n",
    "print(colored(\"Distance in Km: \", \"yellow\") +colored(distanceKm, \"green\"))\n",
    "\n",
    "distanceMi = distanceKm * 0.621\n",
    "print(colored(\"Distance in Mi: \", \"yellow\") +colored(distanceMi, \"green\"))"
   ]
  },
  {
   "cell_type": "markdown",
   "metadata": {},
   "source": [
    "<h2>Ejercicio 2: convierte cadenas en números y usa valores absolutos</h2>\n",
    "Crear una aplicación para trabajar con números y entrada de usuario"
   ]
  },
  {
   "cell_type": "code",
   "execution_count": 11,
   "metadata": {},
   "outputs": [],
   "source": [
    "# Almacenar las entradas del usuario\n",
    "planet1 = int(input('Input the distance from the sun to the first planet in KM'))\n",
    "planet2 = int(input('Input the distance from the sun to the second planet in KM'))"
   ]
  },
  {
   "cell_type": "code",
   "execution_count": 12,
   "metadata": {},
   "outputs": [
    {
     "name": "stdout",
     "output_type": "stream",
     "text": [
      "\u001b[33mDistance in Km: \u001b[0m\u001b[32m10000\u001b[0m\n",
      "\u001b[33mDistance in Mi: \u001b[0m\u001b[32m6210.0\u001b[0m\n"
     ]
    }
   ],
   "source": [
    "# Realizar el cálculo y determinar el valor absoluto\n",
    "distanceKm = planet2 - planet1\n",
    "print(colored(\"Distance in Km: \", \"yellow\") +colored(distanceKm, \"green\"))\n",
    "\n",
    "# Convertir de KM a Millas\n",
    "distanceMi = distanceKm * 0.621\n",
    "print(colored(\"Distance in Mi: \", \"yellow\") +colored(distanceMi, \"green\"))"
   ]
  }
 ],
 "metadata": {
  "interpreter": {
   "hash": "2be5faf79681da6f2a61fdfdd5405d65d042280f7fba6178067603e3a2925119"
  },
  "kernelspec": {
   "display_name": "Python 3.10.0 64-bit",
   "language": "python",
   "name": "python3"
  },
  "language_info": {
   "codemirror_mode": {
    "name": "ipython",
    "version": 3
   },
   "file_extension": ".py",
   "mimetype": "text/x-python",
   "name": "python",
   "nbconvert_exporter": "python",
   "pygments_lexer": "ipython3",
   "version": "3.10.0"
  },
  "orig_nbformat": 4
 },
 "nbformat": 4,
 "nbformat_minor": 2
}
