{
 "cells": [
  {
   "cell_type": "code",
   "execution_count": 70,
   "metadata": {},
   "outputs": [],
   "source": [
    "#Kata 2 Programas de utilidad"
   ]
  },
  {
   "cell_type": "markdown",
   "metadata": {},
   "source": [
    "<h1 style=\"color:teal\" align=\"center\" >Fecha</h1>\n",
    "Kata del módulo 1\n",
    "<p>Este programa muestra la fecha<p>\n",
    "<p>Jorge Guadalupe Ventura Lopez </p>"
   ]
  },
  {
   "cell_type": "code",
   "execution_count": 71,
   "metadata": {},
   "outputs": [
    {
     "data": {
      "application/vnd.jupyter.widget-view+json": {
       "model_id": "e0592c3bda214386b59fa4c49b593149",
       "version_major": 2,
       "version_minor": 0
      },
      "text/plain": [
       "ToggleButton(value=False, button_style='success', description='Ver Fecha', icon='clock', tooltip='Ver fecha de…"
      ]
     },
     "metadata": {},
     "output_type": "display_data"
    },
    {
     "data": {
      "application/vnd.jupyter.widget-view+json": {
       "model_id": "5c57bd059bfd491c8b782bf9a159c9c5",
       "version_major": 2,
       "version_minor": 0
      },
      "text/plain": [
       "Output()"
      ]
     },
     "metadata": {},
     "output_type": "display_data"
    }
   ],
   "source": [
    "from datetime import datetime\n",
    "import ipywidgets as widgets\n",
    "\n",
    "showDate = widgets.ToggleButton(\n",
    "    value=False,\n",
    "    description='Ver Fecha',\n",
    "    button_style='success',\n",
    "    tooltip='Ver fecha de hoy',\n",
    "    icon='clock'\n",
    ")\n",
    "\n",
    "output = widgets.Output()\n",
    "D= str(datetime.now().date())\n",
    "T= str(datetime.now().time())\n",
    "display(showDate, output)\n",
    "\n",
    "def on_value_change(change):\n",
    "    with output:\n",
    "        \n",
    "        if change['new'] == True:\n",
    "            print(\"Today's date is:\" , D)\n",
    "            showDate.description = \"Ver Hora\"\n",
    "        else:   \n",
    "            print(\"The time is:\" ,T )\n",
    "            showDate.description = \"Ver Fecha\"\n",
    "\n",
    "showDate.observe(on_value_change, names='value')\n",
    "\n",
    "\n",
    "\n",
    "\n"
   ]
  },
  {
   "cell_type": "markdown",
   "metadata": {},
   "source": [
    "<h1 style=\"color:teal\" align=\"center\" >Convertidor de Unidades</h1>"
   ]
  },
  {
   "cell_type": "code",
   "execution_count": 72,
   "metadata": {},
   "outputs": [
    {
     "name": "stdout",
     "output_type": "stream",
     "text": [
      "4.0 lightyears , are 1.226406995425502 parsec\n"
     ]
    }
   ],
   "source": [
    "\n",
    "ans = int(input(\"1: Parsec-LightYears, 2: LightYears-Parsec\"))\n",
    "\n",
    "if ans == 1:\n",
    "    parsec = float(input(\"Input Parsec\"))\n",
    "    lightyears = parsec * 3.26156\n",
    "    print(str(parsec) + \" parsecs are \" + str(lightyears) + \" lightyears\")\n",
    "if ans ==2:\n",
    "    lightyears = float(input(\"Input Lightyears\"))\n",
    "    parsec = lightyears / 3.26156\n",
    "    print(str(lightyears) + \" lightyears are \" + str(parsec) + \" parsec\")\n",
    "\n"
   ]
  }
 ],
 "metadata": {
  "interpreter": {
   "hash": "2be5faf79681da6f2a61fdfdd5405d65d042280f7fba6178067603e3a2925119"
  },
  "kernelspec": {
   "display_name": "Python 3.10.0 64-bit",
   "language": "python",
   "name": "python3"
  },
  "language_info": {
   "codemirror_mode": {
    "name": "ipython",
    "version": 3
   },
   "file_extension": ".py",
   "mimetype": "text/x-python",
   "name": "python",
   "nbconvert_exporter": "python",
   "pygments_lexer": "ipython3",
   "version": "3.10.0"
  },
  "orig_nbformat": 4
 },
 "nbformat": 4,
 "nbformat_minor": 2
}
